{
 "cells": [
  {
   "cell_type": "code",
   "execution_count": 2,
   "metadata": {},
   "outputs": [
    {
     "name": "stdout",
     "output_type": "stream",
     "text": [
      "WARNING:tensorflow:From <ipython-input-2-e7c44954b3e7>:6: read_data_sets (from tensorflow.contrib.learn.python.learn.datasets.mnist) is deprecated and will be removed in a future version.\nInstructions for updating:\nPlease use alternatives such as official/mnist/dataset.py from tensorflow/models.\n"
     ]
    },
    {
     "name": "stdout",
     "output_type": "stream",
     "text": [
      "WARNING:tensorflow:From /home/caiomoraes/miniconda3/envs/sci-img/lib/python3.6/site-packages/tensorflow/contrib/learn/python/learn/datasets/mnist.py:260: maybe_download (from tensorflow.contrib.learn.python.learn.datasets.base) is deprecated and will be removed in a future version.\nInstructions for updating:\nPlease write your own downloading logic.\n"
     ]
    },
    {
     "name": "stdout",
     "output_type": "stream",
     "text": [
      "WARNING:tensorflow:From /home/caiomoraes/miniconda3/envs/sci-img/lib/python3.6/site-packages/tensorflow/contrib/learn/python/learn/datasets/mnist.py:262: extract_images (from tensorflow.contrib.learn.python.learn.datasets.mnist) is deprecated and will be removed in a future version.\nInstructions for updating:\nPlease use tf.data to implement this functionality.\n"
     ]
    },
    {
     "name": "stdout",
     "output_type": "stream",
     "text": [
      "Extracting MNIST_data/train-images-idx3-ubyte.gz\n"
     ]
    },
    {
     "name": "stdout",
     "output_type": "stream",
     "text": [
      "WARNING:tensorflow:From /home/caiomoraes/miniconda3/envs/sci-img/lib/python3.6/site-packages/tensorflow/contrib/learn/python/learn/datasets/mnist.py:267: extract_labels (from tensorflow.contrib.learn.python.learn.datasets.mnist) is deprecated and will be removed in a future version.\nInstructions for updating:\nPlease use tf.data to implement this functionality.\n"
     ]
    },
    {
     "name": "stdout",
     "output_type": "stream",
     "text": [
      "Extracting MNIST_data/train-labels-idx1-ubyte.gz\nWARNING:tensorflow:From /home/caiomoraes/miniconda3/envs/sci-img/lib/python3.6/site-packages/tensorflow/contrib/learn/python/learn/datasets/mnist.py:110: dense_to_one_hot (from tensorflow.contrib.learn.python.learn.datasets.mnist) is deprecated and will be removed in a future version.\nInstructions for updating:\nPlease use tf.one_hot on tensors.\n"
     ]
    },
    {
     "name": "stdout",
     "output_type": "stream",
     "text": [
      "Extracting MNIST_data/t10k-images-idx3-ubyte.gz\nExtracting MNIST_data/t10k-labels-idx1-ubyte.gz\nWARNING:tensorflow:From /home/caiomoraes/miniconda3/envs/sci-img/lib/python3.6/site-packages/tensorflow/contrib/learn/python/learn/datasets/mnist.py:290: DataSet.__init__ (from tensorflow.contrib.learn.python.learn.datasets.mnist) is deprecated and will be removed in a future version.\nInstructions for updating:\nPlease use alternatives such as official/mnist/dataset.py from tensorflow/models.\n"
     ]
    },
    {
     "name": "stdout",
     "output_type": "stream",
     "text": [
      "(55000, 10)\n(55000, 28, 28, 1)\n(5000, 10)\n(5000, 28, 28, 1)\n(10000, 10)\n(10000, 28, 28, 1)\n"
     ]
    }
   ],
   "source": [
    "import tensorflow as tf\n",
    "from tensorflow.examples.tutorials.mnist import input_data\n",
    "import numpy as np\n",
    "from skimage.measure import block_reduce\n",
    "\n",
    "mnist = input_data.read_data_sets('MNIST_data', one_hot=True, reshape=False)\n",
    "\n",
    "train_dataset = mnist.train.images\n",
    "train_labels = mnist.train.labels\n",
    "validation_dataset = mnist.validation.images\n",
    "validation_labels = mnist.validation.labels\n",
    "test_dataset = mnist.test.images\n",
    "test_labels = mnist.test.labels\n",
    "\n",
    "print(train_labels.shape)\n",
    "print(train_dataset.shape)\n",
    "print(validation_labels.shape)\n",
    "print(validation_dataset.shape)\n",
    "print(test_labels.shape)\n",
    "print(test_dataset.shape)"
   ]
  },
  {
   "cell_type": "code",
   "execution_count": 3,
   "metadata": {},
   "outputs": [],
   "source": [
    "train_dataset = np.pad(train_dataset, ((0, 0), (2, 2), (2, 2), (0, 0)), 'constant')\n",
    "validation_dataset = np.pad(validation_dataset, ((0, 0), (2, 2), (2, 2), (0, 0)), 'constant')\n",
    "test_dataset = np.pad(test_dataset, ((0, 0), (2, 2), (2, 2), (0, 0)), 'constant')"
   ]
  },
  {
   "cell_type": "code",
   "execution_count": 5,
   "metadata": {},
   "outputs": [
    {
     "data": {
      "text/plain": [
       "<matplotlib.image.AxesImage at 0x7f8ffc31f4a8>"
      ]
     },
     "execution_count": 5,
     "metadata": {},
     "output_type": "execute_result"
    },
    {
     "data": {
      "image/png": "[encoded data removed]",
      "text/plain": [
       "<Figure size 432x288 with 1 Axes>"
      ]
     },
     "metadata": {},
     "output_type": "display_data"
    }
   ],
   "source": [
    "import matplotlib.pyplot as pl\n",
    "%matplotlib inline\n",
    "pl.imshow(train_dataset[0].squeeze(), cmap='gray')"
   ]
  },
  {
   "cell_type": "code",
   "execution_count": 6,
   "metadata": {},
   "outputs": [
    {
     "data": {
      "text/plain": [
       "dtype('float64')"
      ]
     },
     "execution_count": 6,
     "metadata": {},
     "output_type": "execute_result"
    }
   ],
   "source": [
    "np.zeros((1, 1)).dtype"
   ]
  },
  {
   "cell_type": "code",
   "execution_count": 7,
   "metadata": {},
   "outputs": [
    {
     "name": "stdout",
     "output_type": "stream",
     "text": [
      "[0.9960785]\n[0.9960785]\n"
     ]
    },
    {
     "name": "stdout",
     "output_type": "stream",
     "text": [
      "0.9960785\n"
     ]
    }
   ],
   "source": [
    "print(train_dataset[0, 12, 5])\n",
    "a=np.pad(train_dataset[0], ((2, 2), (2, 2), (0, 0)), 'constant')\n",
    "print(a[14, 7])\n",
    "\n",
    "import deep_utils as du\n",
    "b = du.padding(train_dataset[0].squeeze(), np.zeros((5, 5)))\n",
    "print(b[14, 7])"
   ]
  },
  {
   "cell_type": "code",
   "execution_count": 21,
   "metadata": {},
   "outputs": [
    {
     "name": "stdout",
     "output_type": "stream",
     "text": [
      "(16, 16, 1)\n(16, 16, 1)\n"
     ]
    }
   ],
   "source": [
    "def weight_init_he(np_ar, previous_neurons_num):\n",
    "    return np.sqrt(2 / previous_neurons_num) * np.random.randn(*np_ar.shape)\n",
    "\n",
    "def pooling(np_ar, pooling_func, stride=2):\n",
    "        return block_reduce(np_ar, block_size=(stride, stride, *((len(np_ar.shape)-2)*[1])), func=pooling_func)\n",
    "\n",
    "print(pooling(train_dataset[0], np.mean, stride=2).shape)\n",
    "print(pooling(train_dataset[0], np.max, stride=2).shape)"
   ]
  },
  {
   "cell_type": "code",
   "execution_count": 9,
   "metadata": {},
   "outputs": [],
   "source": [
    "conv1_w = np.zeros((6, 5, 5, 1))\n",
    "conv1_w = weight_init_he(conv1_w, previous_neurons_num=32*32)\n",
    "conv1_b = 0.01\n",
    "\n",
    "conv2_w = np.zeros((16, 5, 5, 6))\n",
    "conv2_w = weight_init_he(conv2_w, previous_neurons_num=6*14*14)\n",
    "conv2_b = 0.01\n",
    "\n",
    "conv3_w = np.zeros((120, 5, 5, 16))\n",
    "conv3_w = weight_init_he(conv3_w, previous_neurons_num=16*5*5)\n",
    "conv3_b = 0.01"
   ]
  },
  {
   "cell_type": "code",
   "execution_count": 23,
   "metadata": {},
   "outputs": [
    {
     "data": {
      "text/plain": [
       "(32, 32, 1)"
      ]
     },
     "execution_count": 23,
     "metadata": {},
     "output_type": "execute_result"
    }
   ],
   "source": [
    "train_dataset[0].shape"
   ]
  },
  {
   "cell_type": "code",
   "execution_count": 32,
   "metadata": {},
   "outputs": [
    {
     "name": "stdout",
     "output_type": "stream",
     "text": [
      "(1, 1, 120)\n"
     ]
    }
   ],
   "source": [
    "def pipe_conv(np_ar, conv_w, conv_b, activ_func=du.relu):\n",
    "    hks = int((conv_w.shape[1] - 1) / 2)\n",
    "    conv = np.zeros((np_ar.shape[-3] - 2*hks, np_ar.shape[-2] - 2*hks, conv_w.shape[0]))\n",
    "    \n",
    "    for i in range(conv_w.shape[0]):\n",
    "        conv[:, :, i] = activ_func(du.convolution(np_ar, conv_w[i], stride=1, bias=conv_b))\n",
    "    \n",
    "    return conv\n",
    "\n",
    "c1 = pipe_conv(train_dataset[0], conv1_w, conv1_b)\n",
    "p1 = pooling(c1, np.mean, stride=2)\n",
    "c2 = pipe_conv(p1, conv2_w, conv2_b)\n",
    "p2 = pooling(c2, np.mean, stride=2)\n",
    "c3 = pipe_conv(p2, conv3_w, conv3_b)\n",
    "\n",
    "print(c3.shape)\n",
    "\n"
   ]
  },
  {
   "cell_type": "code",
   "execution_count": null,
   "metadata": {},
   "outputs": [],
   "source": []
  }
 ],
 "metadata": {
  "kernelspec": {
   "display_name": "Python 3",
   "language": "python",
   "name": "python3"
  },
  "language_info": {
   "codemirror_mode": {
    "name": "ipython",
    "version": 3
   },
   "file_extension": ".py",
   "mimetype": "text/x-python",
   "name": "python",
   "nbconvert_exporter": "python",
   "pygments_lexer": "ipython3",
   "version": "3.6.6"
  }
 },
 "nbformat": 4,
 "nbformat_minor": 2
}
